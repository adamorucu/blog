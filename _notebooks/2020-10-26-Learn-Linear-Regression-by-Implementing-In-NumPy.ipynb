{
 "cells": [
  {
   "cell_type": "markdown",
   "metadata": {},
   "source": [
    "# Learn Linear Regression by Implementing in NumPy\n",
    "> Explaination of linear regression by implementing it in Python NumPy.\n",
    "\n",
    "- toc: false \n",
    "- badges: true\n",
    "- comments: true\n",
    "- author: Adam Orucu\n",
    "- categories: [machine learning, numpy]\n",
    "- image: images/cover/linear-regression.png"
   ]
  },
  {
   "cell_type": "markdown",
   "metadata": {},
   "source": [
    "Following the principle:\n",
    "> The best way to learn is by doing.\n",
    "\n",
    "In this post we will learn how linear regression works and implement it at the same time. This is the first post of a series so if you end up learning something usefull don't stop and continue with the next ones. The whole post is a _Jupyter Notebook_ and was created using `Fast Pages` so if you'd like to replicate the steps you can do so by using the above links for several different methods."
   ]
  },
  {
   "cell_type": "code",
   "execution_count": 4,
   "metadata": {
    "collapsed": true
   },
   "outputs": [
    {
     "name": "stdout",
     "output_type": "stream",
     "text": [
      "Requirement already satisfied: numpy in /home/adam/.local/lib/python3.8/site-packages (1.18.5)\n",
      "Requirement already satisfied: pandas in /home/adam/.local/lib/python3.8/site-packages (1.0.4)\n",
      "Requirement already satisfied: matplotlib in /home/adam/.local/lib/python3.8/site-packages (3.2.2)\n",
      "Collecting seaborn\n",
      "  Using cached seaborn-0.11.0-py3-none-any.whl (283 kB)\n",
      "Collecting sklearn\n",
      "  Downloading sklearn-0.0.tar.gz (1.1 kB)\n",
      "Requirement already satisfied: pytz>=2017.2 in /home/adam/.local/lib/python3.8/site-packages (from pandas) (2020.1)\n",
      "Requirement already satisfied: python-dateutil>=2.6.1 in /home/adam/.local/lib/python3.8/site-packages (from pandas) (2.8.1)\n",
      "Requirement already satisfied: pyparsing!=2.0.4,!=2.1.2,!=2.1.6,>=2.0.1 in /home/adam/.local/lib/python3.8/site-packages (from matplotlib) (2.4.7)\n",
      "Requirement already satisfied: cycler>=0.10 in /home/adam/.local/lib/python3.8/site-packages (from matplotlib) (0.10.0)\n",
      "Requirement already satisfied: kiwisolver>=1.0.1 in /home/adam/.local/lib/python3.8/site-packages (from matplotlib) (1.2.0)\n",
      "Requirement already satisfied: scipy>=1.0 in /home/adam/.local/lib/python3.8/site-packages (from seaborn) (1.5.1)\n",
      "Requirement already satisfied: scikit-learn in /home/adam/.local/lib/python3.8/site-packages (from sklearn) (0.23.2)\n",
      "Requirement already satisfied: six>=1.5 in /usr/lib/python3/dist-packages (from python-dateutil>=2.6.1->pandas) (1.14.0)\n",
      "Requirement already satisfied: threadpoolctl>=2.0.0 in /home/adam/.local/lib/python3.8/site-packages (from scikit-learn->sklearn) (2.1.0)\n",
      "Requirement already satisfied: joblib>=0.11 in /home/adam/.local/lib/python3.8/site-packages (from scikit-learn->sklearn) (0.17.0)\n",
      "Building wheels for collected packages: sklearn\n",
      "  Building wheel for sklearn (setup.py) ... \u001b[?25ldone\n",
      "\u001b[?25h  Created wheel for sklearn: filename=sklearn-0.0-py2.py3-none-any.whl size=1315 sha256=cde406bd7c10f7f3c76bddea3546d6651f4bf293eab80c1cb8ea53d9452ef7a8\n",
      "  Stored in directory: /home/adam/.cache/pip/wheels/22/0b/40/fd3f795caaa1fb4c6cb738bc1f56100be1e57da95849bfc897\n",
      "Successfully built sklearn\n",
      "Installing collected packages: seaborn, sklearn\n",
      "Successfully installed seaborn-0.11.0 sklearn-0.0\n"
     ]
    }
   ],
   "source": [
    "#hide\n",
    "!pip3 install numpy pandas matplotlib seaborn sklearn"
   ]
  },
  {
   "cell_type": "code",
   "execution_count": 1,
   "metadata": {},
   "outputs": [],
   "source": [
    "#collapse-hide\n",
    "#hide_output\n",
    "import numpy as np\n",
    "import pandas as pd\n",
    "import matplotlib.pyplot as plt\n",
    "from IPython.display import Code\n",
    "%matplotlib inline\n",
    "import seaborn as sns\n",
    "sns.set_style('darkgrid')\n",
    "from sklearn import datasets\n",
    "from sklearn.model_selection import train_test_split\n",
    "\n",
    "%load_ext autoreload\n",
    "%autoreload 2"
   ]
  },
  {
   "cell_type": "markdown",
   "metadata": {},
   "source": [
    "## About the data\n",
    "\n",
    "Data that we will be using to train and test the model is the [Boston Housing Dataset](https://www.cs.toronto.edu/~delve/data/boston/bostonDetail.html). This dataset contains information on housing in the city of Boston and we will use it to try to predict value of some owner-occupied homes."
   ]
  },
  {
   "cell_type": "code",
   "execution_count": 2,
   "metadata": {},
   "outputs": [],
   "source": [
    "#collapse-hide\n",
    "X, y = datasets.load_boston(return_X_y=True)\n",
    "X = pd.DataFrame(data=X, columns=['CRIM', 'ZN', 'INDUS', 'CHAS', 'NOX', 'RM', 'AGE', 'DIS', 'RAD', 'TAX', 'PTRATIO', 'B', 'LSTAT'])\n",
    "X_train, X_test, y_train, y_test = train_test_split(X['AGE'].to_numpy().reshape(-1, 1), y, test_size=0.33, random_state=42)"
   ]
  },
  {
   "cell_type": "markdown",
   "metadata": {},
   "source": [
    "The data can be viewed below. Here every column represents an attribute of the data, like age, crime, or patio-ratio. Although for this project only one attribute will be uses to ease the visualisation - namely **age** of the property."
   ]
  },
  {
   "cell_type": "code",
   "execution_count": 3,
   "metadata": {},
   "outputs": [
    {
     "data": {
      "text/html": [
       "<div>\n",
       "<style scoped>\n",
       "    .dataframe tbody tr th:only-of-type {\n",
       "        vertical-align: middle;\n",
       "    }\n",
       "\n",
       "    .dataframe tbody tr th {\n",
       "        vertical-align: top;\n",
       "    }\n",
       "\n",
       "    .dataframe thead th {\n",
       "        text-align: right;\n",
       "    }\n",
       "</style>\n",
       "<table border=\"1\" class=\"dataframe\">\n",
       "  <thead>\n",
       "    <tr style=\"text-align: right;\">\n",
       "      <th></th>\n",
       "      <th>CRIM</th>\n",
       "      <th>ZN</th>\n",
       "      <th>INDUS</th>\n",
       "      <th>CHAS</th>\n",
       "      <th>NOX</th>\n",
       "      <th>RM</th>\n",
       "      <th>AGE</th>\n",
       "      <th>DIS</th>\n",
       "      <th>RAD</th>\n",
       "      <th>TAX</th>\n",
       "      <th>PTRATIO</th>\n",
       "      <th>B</th>\n",
       "      <th>LSTAT</th>\n",
       "      <th>target</th>\n",
       "    </tr>\n",
       "  </thead>\n",
       "  <tbody>\n",
       "    <tr>\n",
       "      <th>0</th>\n",
       "      <td>0.00632</td>\n",
       "      <td>18.0</td>\n",
       "      <td>2.31</td>\n",
       "      <td>0.0</td>\n",
       "      <td>0.538</td>\n",
       "      <td>6.575</td>\n",
       "      <td>65.2</td>\n",
       "      <td>4.0900</td>\n",
       "      <td>1.0</td>\n",
       "      <td>296.0</td>\n",
       "      <td>15.3</td>\n",
       "      <td>396.90</td>\n",
       "      <td>4.98</td>\n",
       "      <td>24.0</td>\n",
       "    </tr>\n",
       "    <tr>\n",
       "      <th>1</th>\n",
       "      <td>0.02731</td>\n",
       "      <td>0.0</td>\n",
       "      <td>7.07</td>\n",
       "      <td>0.0</td>\n",
       "      <td>0.469</td>\n",
       "      <td>6.421</td>\n",
       "      <td>78.9</td>\n",
       "      <td>4.9671</td>\n",
       "      <td>2.0</td>\n",
       "      <td>242.0</td>\n",
       "      <td>17.8</td>\n",
       "      <td>396.90</td>\n",
       "      <td>9.14</td>\n",
       "      <td>21.6</td>\n",
       "    </tr>\n",
       "    <tr>\n",
       "      <th>2</th>\n",
       "      <td>0.02729</td>\n",
       "      <td>0.0</td>\n",
       "      <td>7.07</td>\n",
       "      <td>0.0</td>\n",
       "      <td>0.469</td>\n",
       "      <td>7.185</td>\n",
       "      <td>61.1</td>\n",
       "      <td>4.9671</td>\n",
       "      <td>2.0</td>\n",
       "      <td>242.0</td>\n",
       "      <td>17.8</td>\n",
       "      <td>392.83</td>\n",
       "      <td>4.03</td>\n",
       "      <td>34.7</td>\n",
       "    </tr>\n",
       "    <tr>\n",
       "      <th>3</th>\n",
       "      <td>0.03237</td>\n",
       "      <td>0.0</td>\n",
       "      <td>2.18</td>\n",
       "      <td>0.0</td>\n",
       "      <td>0.458</td>\n",
       "      <td>6.998</td>\n",
       "      <td>45.8</td>\n",
       "      <td>6.0622</td>\n",
       "      <td>3.0</td>\n",
       "      <td>222.0</td>\n",
       "      <td>18.7</td>\n",
       "      <td>394.63</td>\n",
       "      <td>2.94</td>\n",
       "      <td>33.4</td>\n",
       "    </tr>\n",
       "    <tr>\n",
       "      <th>4</th>\n",
       "      <td>0.06905</td>\n",
       "      <td>0.0</td>\n",
       "      <td>2.18</td>\n",
       "      <td>0.0</td>\n",
       "      <td>0.458</td>\n",
       "      <td>7.147</td>\n",
       "      <td>54.2</td>\n",
       "      <td>6.0622</td>\n",
       "      <td>3.0</td>\n",
       "      <td>222.0</td>\n",
       "      <td>18.7</td>\n",
       "      <td>396.90</td>\n",
       "      <td>5.33</td>\n",
       "      <td>36.2</td>\n",
       "    </tr>\n",
       "  </tbody>\n",
       "</table>\n",
       "</div>"
      ],
      "text/plain": [
       "      CRIM    ZN  INDUS  CHAS    NOX     RM   AGE     DIS  RAD    TAX  \\\n",
       "0  0.00632  18.0   2.31   0.0  0.538  6.575  65.2  4.0900  1.0  296.0   \n",
       "1  0.02731   0.0   7.07   0.0  0.469  6.421  78.9  4.9671  2.0  242.0   \n",
       "2  0.02729   0.0   7.07   0.0  0.469  7.185  61.1  4.9671  2.0  242.0   \n",
       "3  0.03237   0.0   2.18   0.0  0.458  6.998  45.8  6.0622  3.0  222.0   \n",
       "4  0.06905   0.0   2.18   0.0  0.458  7.147  54.2  6.0622  3.0  222.0   \n",
       "\n",
       "   PTRATIO       B  LSTAT  target  \n",
       "0     15.3  396.90   4.98    24.0  \n",
       "1     17.8  396.90   9.14    21.6  \n",
       "2     17.8  392.83   4.03    34.7  \n",
       "3     18.7  394.63   2.94    33.4  \n",
       "4     18.7  396.90   5.33    36.2  "
      ]
     },
     "execution_count": 3,
     "metadata": {},
     "output_type": "execute_result"
    }
   ],
   "source": [
    "#collapse-hide\n",
    "temp = X; temp['target'] = y; temp.head()"
   ]
  },
  {
   "cell_type": "markdown",
   "metadata": {},
   "source": [
    "## Our Goal\n",
    "As stated our goal is to predict values of given houses to be as close to the real value as possible. Below an example can be viewed, which was created using scikit-learn the table presents predicted and true values for 5 housing units. We will be creating a similar model on our own."
   ]
  },
  {
   "cell_type": "code",
   "execution_count": 4,
   "metadata": {},
   "outputs": [
    {
     "data": {
      "text/html": [
       "<div>\n",
       "<style scoped>\n",
       "    .dataframe tbody tr th:only-of-type {\n",
       "        vertical-align: middle;\n",
       "    }\n",
       "\n",
       "    .dataframe tbody tr th {\n",
       "        vertical-align: top;\n",
       "    }\n",
       "\n",
       "    .dataframe thead th {\n",
       "        text-align: right;\n",
       "    }\n",
       "</style>\n",
       "<table border=\"1\" class=\"dataframe\">\n",
       "  <thead>\n",
       "    <tr style=\"text-align: right;\">\n",
       "      <th></th>\n",
       "      <th>0</th>\n",
       "      <th>1</th>\n",
       "      <th>2</th>\n",
       "      <th>3</th>\n",
       "      <th>4</th>\n",
       "    </tr>\n",
       "  </thead>\n",
       "  <tbody>\n",
       "    <tr>\n",
       "      <th>Prediction</th>\n",
       "      <td>21.133509</td>\n",
       "      <td>27.338643</td>\n",
       "      <td>19.351957</td>\n",
       "      <td>30.380613</td>\n",
       "      <td>20.200315</td>\n",
       "    </tr>\n",
       "    <tr>\n",
       "      <th>True</th>\n",
       "      <td>23.600000</td>\n",
       "      <td>32.400000</td>\n",
       "      <td>13.600000</td>\n",
       "      <td>22.800000</td>\n",
       "      <td>16.100000</td>\n",
       "    </tr>\n",
       "  </tbody>\n",
       "</table>\n",
       "</div>"
      ],
      "text/plain": [
       "                    0          1          2          3          4\n",
       "Prediction  21.133509  27.338643  19.351957  30.380613  20.200315\n",
       "True        23.600000  32.400000  13.600000  22.800000  16.100000"
      ]
     },
     "execution_count": 4,
     "metadata": {},
     "output_type": "execute_result"
    }
   ],
   "source": [
    "from sklearn.linear_model import LinearRegression as skLinReg\n",
    "clf = skLinReg().fit(X_train, y_train, )\n",
    "pd.DataFrame(data=[clf.predict(X_test)[:5], y_test[:5]], index=['Prediction', 'True'])"
   ]
  },
  {
   "cell_type": "markdown",
   "metadata": {},
   "source": [
    "## Let's Get to It\n",
    "\n",
    "Although the linear regression model is fairly simple to understand while making predictions, there is some math involved in the process of training the model. So without further ado, let's begin.\n",
    "\n",
    "---\n",
    "\n",
    "Prediction making in linear regression can be basically stated as drawing a line through the available data so that it represents the data as accurately as possible. We do that ofcourse by creating an equation that represents a line, e.g. $3x + 4 = y$. This equation says that if our input data point is a $2$ the prediction made will be $10$. The input data can of course have more then one attribute for a single data point. In such a case the equation can be written as follows; $\\theta_1 * x_1 + \\theta_2 * x_2 + \\theta_0 = y$. Theta, being the weight of each attribute.\n",
    "\n",
    "Since we will not get only one data point but much more, it will be usefull to represent it with a matrix, where each column of $X$ is an attribute, each row a seperate data point that is available to us. Thetas and the output y can represented as two vectors in such a case. This will result in the below equation.\n",
    "$$X \\cdot \\theta = y$$\n",
    "Pretty simple formula right? So, let's code it."
   ]
  },
  {
   "cell_type": "code",
   "execution_count": 5,
   "metadata": {},
   "outputs": [
    {
     "data": {
      "text/html": [
       "<style>.output_html .hll { background-color: #ffffcc }\n",
       ".output_html  { background: #f8f8f8; }\n",
       ".output_html .c { color: #408080; font-style: italic } /* Comment */\n",
       ".output_html .err { border: 1px solid #FF0000 } /* Error */\n",
       ".output_html .k { color: #008000; font-weight: bold } /* Keyword */\n",
       ".output_html .o { color: #666666 } /* Operator */\n",
       ".output_html .ch { color: #408080; font-style: italic } /* Comment.Hashbang */\n",
       ".output_html .cm { color: #408080; font-style: italic } /* Comment.Multiline */\n",
       ".output_html .cp { color: #BC7A00 } /* Comment.Preproc */\n",
       ".output_html .cpf { color: #408080; font-style: italic } /* Comment.PreprocFile */\n",
       ".output_html .c1 { color: #408080; font-style: italic } /* Comment.Single */\n",
       ".output_html .cs { color: #408080; font-style: italic } /* Comment.Special */\n",
       ".output_html .gd { color: #A00000 } /* Generic.Deleted */\n",
       ".output_html .ge { font-style: italic } /* Generic.Emph */\n",
       ".output_html .gr { color: #FF0000 } /* Generic.Error */\n",
       ".output_html .gh { color: #000080; font-weight: bold } /* Generic.Heading */\n",
       ".output_html .gi { color: #00A000 } /* Generic.Inserted */\n",
       ".output_html .go { color: #888888 } /* Generic.Output */\n",
       ".output_html .gp { color: #000080; font-weight: bold } /* Generic.Prompt */\n",
       ".output_html .gs { font-weight: bold } /* Generic.Strong */\n",
       ".output_html .gu { color: #800080; font-weight: bold } /* Generic.Subheading */\n",
       ".output_html .gt { color: #0044DD } /* Generic.Traceback */\n",
       ".output_html .kc { color: #008000; font-weight: bold } /* Keyword.Constant */\n",
       ".output_html .kd { color: #008000; font-weight: bold } /* Keyword.Declaration */\n",
       ".output_html .kn { color: #008000; font-weight: bold } /* Keyword.Namespace */\n",
       ".output_html .kp { color: #008000 } /* Keyword.Pseudo */\n",
       ".output_html .kr { color: #008000; font-weight: bold } /* Keyword.Reserved */\n",
       ".output_html .kt { color: #B00040 } /* Keyword.Type */\n",
       ".output_html .m { color: #666666 } /* Literal.Number */\n",
       ".output_html .s { color: #BA2121 } /* Literal.String */\n",
       ".output_html .na { color: #7D9029 } /* Name.Attribute */\n",
       ".output_html .nb { color: #008000 } /* Name.Builtin */\n",
       ".output_html .nc { color: #0000FF; font-weight: bold } /* Name.Class */\n",
       ".output_html .no { color: #880000 } /* Name.Constant */\n",
       ".output_html .nd { color: #AA22FF } /* Name.Decorator */\n",
       ".output_html .ni { color: #999999; font-weight: bold } /* Name.Entity */\n",
       ".output_html .ne { color: #D2413A; font-weight: bold } /* Name.Exception */\n",
       ".output_html .nf { color: #0000FF } /* Name.Function */\n",
       ".output_html .nl { color: #A0A000 } /* Name.Label */\n",
       ".output_html .nn { color: #0000FF; font-weight: bold } /* Name.Namespace */\n",
       ".output_html .nt { color: #008000; font-weight: bold } /* Name.Tag */\n",
       ".output_html .nv { color: #19177C } /* Name.Variable */\n",
       ".output_html .ow { color: #AA22FF; font-weight: bold } /* Operator.Word */\n",
       ".output_html .w { color: #bbbbbb } /* Text.Whitespace */\n",
       ".output_html .mb { color: #666666 } /* Literal.Number.Bin */\n",
       ".output_html .mf { color: #666666 } /* Literal.Number.Float */\n",
       ".output_html .mh { color: #666666 } /* Literal.Number.Hex */\n",
       ".output_html .mi { color: #666666 } /* Literal.Number.Integer */\n",
       ".output_html .mo { color: #666666 } /* Literal.Number.Oct */\n",
       ".output_html .sa { color: #BA2121 } /* Literal.String.Affix */\n",
       ".output_html .sb { color: #BA2121 } /* Literal.String.Backtick */\n",
       ".output_html .sc { color: #BA2121 } /* Literal.String.Char */\n",
       ".output_html .dl { color: #BA2121 } /* Literal.String.Delimiter */\n",
       ".output_html .sd { color: #BA2121; font-style: italic } /* Literal.String.Doc */\n",
       ".output_html .s2 { color: #BA2121 } /* Literal.String.Double */\n",
       ".output_html .se { color: #BB6622; font-weight: bold } /* Literal.String.Escape */\n",
       ".output_html .sh { color: #BA2121 } /* Literal.String.Heredoc */\n",
       ".output_html .si { color: #BB6688; font-weight: bold } /* Literal.String.Interpol */\n",
       ".output_html .sx { color: #008000 } /* Literal.String.Other */\n",
       ".output_html .sr { color: #BB6688 } /* Literal.String.Regex */\n",
       ".output_html .s1 { color: #BA2121 } /* Literal.String.Single */\n",
       ".output_html .ss { color: #19177C } /* Literal.String.Symbol */\n",
       ".output_html .bp { color: #008000 } /* Name.Builtin.Pseudo */\n",
       ".output_html .fm { color: #0000FF } /* Name.Function.Magic */\n",
       ".output_html .vc { color: #19177C } /* Name.Variable.Class */\n",
       ".output_html .vg { color: #19177C } /* Name.Variable.Global */\n",
       ".output_html .vi { color: #19177C } /* Name.Variable.Instance */\n",
       ".output_html .vm { color: #19177C } /* Name.Variable.Magic */\n",
       ".output_html .il { color: #666666 } /* Literal.Number.Integer.Long */</style><div class=\"highlight\"><pre><span></span><span class=\"k\">def</span> <span class=\"nf\">predict</span><span class=\"p\">(</span><span class=\"bp\">self</span><span class=\"p\">,</span> <span class=\"n\">X</span><span class=\"p\">,</span> <span class=\"n\">add_intercept</span><span class=\"o\">=</span><span class=\"kc\">True</span><span class=\"p\">):</span>\n",
       "    <span class=\"sd\">&quot;&quot;&quot;Makes predictions on the given data&quot;&quot;&quot;</span>\n",
       "    <span class=\"k\">if</span> <span class=\"n\">add_intercept</span><span class=\"p\">:</span>\n",
       "        <span class=\"n\">X</span> <span class=\"o\">=</span> <span class=\"n\">np</span><span class=\"o\">.</span><span class=\"n\">column_stack</span><span class=\"p\">((</span><span class=\"n\">np</span><span class=\"o\">.</span><span class=\"n\">ones</span><span class=\"p\">((</span><span class=\"n\">X</span><span class=\"o\">.</span><span class=\"n\">shape</span><span class=\"p\">[</span><span class=\"mi\">0</span><span class=\"p\">],</span> <span class=\"mi\">1</span><span class=\"p\">),</span> <span class=\"n\">dtype</span><span class=\"o\">=</span><span class=\"n\">X</span><span class=\"o\">.</span><span class=\"n\">dtype</span><span class=\"p\">),</span> <span class=\"n\">X</span><span class=\"p\">))</span>\n",
       "    <span class=\"k\">return</span> <span class=\"n\">X</span> <span class=\"o\">@</span> <span class=\"bp\">self</span><span class=\"o\">.</span><span class=\"n\">Theta</span>\n",
       "</pre></div>\n"
      ],
      "text/latex": [
       "\\begin{Verbatim}[commandchars=\\\\\\{\\}]\n",
       "\\PY{k}{def} \\PY{n+nf}{predict}\\PY{p}{(}\\PY{n+nb+bp}{self}\\PY{p}{,} \\PY{n}{X}\\PY{p}{,} \\PY{n}{add\\PYZus{}intercept}\\PY{o}{=}\\PY{k+kc}{True}\\PY{p}{)}\\PY{p}{:}\n",
       "    \\PY{l+s+sd}{\\PYZdq{}\\PYZdq{}\\PYZdq{}Makes predictions on the given data\\PYZdq{}\\PYZdq{}\\PYZdq{}}\n",
       "    \\PY{k}{if} \\PY{n}{add\\PYZus{}intercept}\\PY{p}{:}\n",
       "        \\PY{n}{X} \\PY{o}{=} \\PY{n}{np}\\PY{o}{.}\\PY{n}{column\\PYZus{}stack}\\PY{p}{(}\\PY{p}{(}\\PY{n}{np}\\PY{o}{.}\\PY{n}{ones}\\PY{p}{(}\\PY{p}{(}\\PY{n}{X}\\PY{o}{.}\\PY{n}{shape}\\PY{p}{[}\\PY{l+m+mi}{0}\\PY{p}{]}\\PY{p}{,} \\PY{l+m+mi}{1}\\PY{p}{)}\\PY{p}{,} \\PY{n}{dtype}\\PY{o}{=}\\PY{n}{X}\\PY{o}{.}\\PY{n}{dtype}\\PY{p}{)}\\PY{p}{,} \\PY{n}{X}\\PY{p}{)}\\PY{p}{)}\n",
       "    \\PY{k}{return} \\PY{n}{X} \\PY{o}{@} \\PY{n+nb+bp}{self}\\PY{o}{.}\\PY{n}{Theta}\n",
       "\\end{Verbatim}\n"
      ],
      "text/plain": [
       "\n",
       "def predict(self, X, add_intercept=True):\n",
       "    \"\"\"Makes predictions on the given data\"\"\"\n",
       "    if add_intercept:\n",
       "        X = np.column_stack((np.ones((X.shape[0], 1), dtype=X.dtype), X))\n",
       "    return X @ self.Theta"
      ]
     },
     "execution_count": 5,
     "metadata": {},
     "output_type": "execute_result"
    }
   ],
   "source": [
    "#hide_input\n",
    "Code('''\n",
    "def predict(self, X, add_intercept=True):\n",
    "    \"\"\"Makes predictions on the given data\"\"\"\n",
    "    if add_intercept:\n",
    "        X = np.column_stack((np.ones((X.shape[0], 1), dtype=X.dtype), X))\n",
    "    return X @ self.Theta\n",
    "''', language='py')"
   ]
  },
  {
   "cell_type": "markdown",
   "metadata": {},
   "source": [
    "Above is the code-snippet that does exactly what we have said so far. Returns an array of predictions by multiplying each row (data point) with theta (weight). You may have realised the two extra lines here. They add to our matrix a column of 1s which are called the intercept they will help us add the $\\theta_0$ weight.\n",
    "\n",
    "---\n",
    "\n",
    "Now since we now how to make predictions once we have our thetas defined let's learn how we actually choose the thetas that best fir our data. We will see how this can be done, using two different methods. Let's start with **gradient descent**. The general idea here is that; we calculate the error our model is making at step by step try to minimize it.\n",
    "\n",
    "That said let's define our error (loss) function. Since we try to draw a line so that the distance to the data points is as small as possible, our function will do just that; calculate the average distance to the data points. Instead of getting the absoloute value of the distances we will sqaure it. This is done so the values that are a little off will not affect the model very much, but values that will end up being very far away from the line that we drew increase the error even more.\n",
    "$$\\frac{\\sum_{i=0}^n( X_i \\cdot \\theta - y_i)}{2n}$$\n",
    "You probably see an extra 2 in the denominator, it is just to help us in further calculation, you shouldn't worry about it very much."
   ]
  },
  {
   "cell_type": "code",
   "execution_count": 6,
   "metadata": {},
   "outputs": [
    {
     "data": {
      "text/html": [
       "<style>.output_html .hll { background-color: #ffffcc }\n",
       ".output_html  { background: #f8f8f8; }\n",
       ".output_html .c { color: #408080; font-style: italic } /* Comment */\n",
       ".output_html .err { border: 1px solid #FF0000 } /* Error */\n",
       ".output_html .k { color: #008000; font-weight: bold } /* Keyword */\n",
       ".output_html .o { color: #666666 } /* Operator */\n",
       ".output_html .ch { color: #408080; font-style: italic } /* Comment.Hashbang */\n",
       ".output_html .cm { color: #408080; font-style: italic } /* Comment.Multiline */\n",
       ".output_html .cp { color: #BC7A00 } /* Comment.Preproc */\n",
       ".output_html .cpf { color: #408080; font-style: italic } /* Comment.PreprocFile */\n",
       ".output_html .c1 { color: #408080; font-style: italic } /* Comment.Single */\n",
       ".output_html .cs { color: #408080; font-style: italic } /* Comment.Special */\n",
       ".output_html .gd { color: #A00000 } /* Generic.Deleted */\n",
       ".output_html .ge { font-style: italic } /* Generic.Emph */\n",
       ".output_html .gr { color: #FF0000 } /* Generic.Error */\n",
       ".output_html .gh { color: #000080; font-weight: bold } /* Generic.Heading */\n",
       ".output_html .gi { color: #00A000 } /* Generic.Inserted */\n",
       ".output_html .go { color: #888888 } /* Generic.Output */\n",
       ".output_html .gp { color: #000080; font-weight: bold } /* Generic.Prompt */\n",
       ".output_html .gs { font-weight: bold } /* Generic.Strong */\n",
       ".output_html .gu { color: #800080; font-weight: bold } /* Generic.Subheading */\n",
       ".output_html .gt { color: #0044DD } /* Generic.Traceback */\n",
       ".output_html .kc { color: #008000; font-weight: bold } /* Keyword.Constant */\n",
       ".output_html .kd { color: #008000; font-weight: bold } /* Keyword.Declaration */\n",
       ".output_html .kn { color: #008000; font-weight: bold } /* Keyword.Namespace */\n",
       ".output_html .kp { color: #008000 } /* Keyword.Pseudo */\n",
       ".output_html .kr { color: #008000; font-weight: bold } /* Keyword.Reserved */\n",
       ".output_html .kt { color: #B00040 } /* Keyword.Type */\n",
       ".output_html .m { color: #666666 } /* Literal.Number */\n",
       ".output_html .s { color: #BA2121 } /* Literal.String */\n",
       ".output_html .na { color: #7D9029 } /* Name.Attribute */\n",
       ".output_html .nb { color: #008000 } /* Name.Builtin */\n",
       ".output_html .nc { color: #0000FF; font-weight: bold } /* Name.Class */\n",
       ".output_html .no { color: #880000 } /* Name.Constant */\n",
       ".output_html .nd { color: #AA22FF } /* Name.Decorator */\n",
       ".output_html .ni { color: #999999; font-weight: bold } /* Name.Entity */\n",
       ".output_html .ne { color: #D2413A; font-weight: bold } /* Name.Exception */\n",
       ".output_html .nf { color: #0000FF } /* Name.Function */\n",
       ".output_html .nl { color: #A0A000 } /* Name.Label */\n",
       ".output_html .nn { color: #0000FF; font-weight: bold } /* Name.Namespace */\n",
       ".output_html .nt { color: #008000; font-weight: bold } /* Name.Tag */\n",
       ".output_html .nv { color: #19177C } /* Name.Variable */\n",
       ".output_html .ow { color: #AA22FF; font-weight: bold } /* Operator.Word */\n",
       ".output_html .w { color: #bbbbbb } /* Text.Whitespace */\n",
       ".output_html .mb { color: #666666 } /* Literal.Number.Bin */\n",
       ".output_html .mf { color: #666666 } /* Literal.Number.Float */\n",
       ".output_html .mh { color: #666666 } /* Literal.Number.Hex */\n",
       ".output_html .mi { color: #666666 } /* Literal.Number.Integer */\n",
       ".output_html .mo { color: #666666 } /* Literal.Number.Oct */\n",
       ".output_html .sa { color: #BA2121 } /* Literal.String.Affix */\n",
       ".output_html .sb { color: #BA2121 } /* Literal.String.Backtick */\n",
       ".output_html .sc { color: #BA2121 } /* Literal.String.Char */\n",
       ".output_html .dl { color: #BA2121 } /* Literal.String.Delimiter */\n",
       ".output_html .sd { color: #BA2121; font-style: italic } /* Literal.String.Doc */\n",
       ".output_html .s2 { color: #BA2121 } /* Literal.String.Double */\n",
       ".output_html .se { color: #BB6622; font-weight: bold } /* Literal.String.Escape */\n",
       ".output_html .sh { color: #BA2121 } /* Literal.String.Heredoc */\n",
       ".output_html .si { color: #BB6688; font-weight: bold } /* Literal.String.Interpol */\n",
       ".output_html .sx { color: #008000 } /* Literal.String.Other */\n",
       ".output_html .sr { color: #BB6688 } /* Literal.String.Regex */\n",
       ".output_html .s1 { color: #BA2121 } /* Literal.String.Single */\n",
       ".output_html .ss { color: #19177C } /* Literal.String.Symbol */\n",
       ".output_html .bp { color: #008000 } /* Name.Builtin.Pseudo */\n",
       ".output_html .fm { color: #0000FF } /* Name.Function.Magic */\n",
       ".output_html .vc { color: #19177C } /* Name.Variable.Class */\n",
       ".output_html .vg { color: #19177C } /* Name.Variable.Global */\n",
       ".output_html .vi { color: #19177C } /* Name.Variable.Instance */\n",
       ".output_html .vm { color: #19177C } /* Name.Variable.Magic */\n",
       ".output_html .il { color: #666666 } /* Literal.Number.Integer.Long */</style><div class=\"highlight\"><pre><span></span><span class=\"k\">def</span> <span class=\"nf\">fit</span><span class=\"p\">(</span><span class=\"bp\">self</span><span class=\"p\">,</span> <span class=\"n\">X</span><span class=\"p\">,</span> <span class=\"n\">y</span><span class=\"p\">,</span> <span class=\"n\">lamb</span><span class=\"o\">=</span><span class=\"mi\">0</span><span class=\"p\">,</span> <span class=\"n\">add_intercept</span><span class=\"o\">=</span><span class=\"kc\">True</span><span class=\"p\">,</span> <span class=\"n\">iters</span><span class=\"o\">=</span><span class=\"mi\">20</span><span class=\"p\">,</span> <span class=\"n\">lr</span><span class=\"o\">=</span><span class=\"mf\">1e-6</span><span class=\"p\">):</span>\n",
       "    <span class=\"sd\">&quot;&quot;&quot;Fits the training data using gradient descent&quot;&quot;&quot;</span>\n",
       "    <span class=\"k\">if</span> <span class=\"n\">add_intercept</span><span class=\"p\">:</span>\n",
       "        <span class=\"n\">X</span> <span class=\"o\">=</span> <span class=\"n\">np</span><span class=\"o\">.</span><span class=\"n\">column_stack</span><span class=\"p\">((</span><span class=\"n\">np</span><span class=\"o\">.</span><span class=\"n\">ones</span><span class=\"p\">((</span><span class=\"n\">X</span><span class=\"o\">.</span><span class=\"n\">shape</span><span class=\"p\">[</span><span class=\"mi\">0</span><span class=\"p\">],</span> <span class=\"mi\">1</span><span class=\"p\">),</span> <span class=\"n\">dtype</span><span class=\"o\">=</span><span class=\"n\">X</span><span class=\"o\">.</span><span class=\"n\">dtype</span><span class=\"p\">),</span> <span class=\"n\">X</span><span class=\"p\">))</span>\n",
       "    <span class=\"bp\">self</span><span class=\"o\">.</span><span class=\"n\">n</span><span class=\"p\">,</span> <span class=\"bp\">self</span><span class=\"o\">.</span><span class=\"n\">p</span> <span class=\"o\">=</span> <span class=\"n\">X</span><span class=\"o\">.</span><span class=\"n\">shape</span>\n",
       "    <span class=\"bp\">self</span><span class=\"o\">.</span><span class=\"n\">X</span> <span class=\"o\">=</span> <span class=\"n\">X</span>\n",
       "    <span class=\"bp\">self</span><span class=\"o\">.</span><span class=\"n\">y</span> <span class=\"o\">=</span> <span class=\"n\">np</span><span class=\"o\">.</span><span class=\"n\">reshape</span><span class=\"p\">(</span><span class=\"n\">y</span><span class=\"p\">,</span> <span class=\"p\">(</span><span class=\"nb\">len</span><span class=\"p\">(</span><span class=\"n\">y</span><span class=\"p\">),</span> <span class=\"mi\">1</span><span class=\"p\">))</span>\n",
       "    <span class=\"bp\">self</span><span class=\"o\">.</span><span class=\"n\">Theta</span> <span class=\"o\">=</span> <span class=\"n\">np</span><span class=\"o\">.</span><span class=\"n\">random</span><span class=\"o\">.</span><span class=\"n\">randn</span><span class=\"p\">(</span><span class=\"bp\">self</span><span class=\"o\">.</span><span class=\"n\">p</span><span class=\"p\">,</span> <span class=\"mi\">1</span><span class=\"p\">)</span>\n",
       "    <span class=\"n\">loss_prime</span> <span class=\"o\">=</span> <span class=\"k\">lambda</span> <span class=\"n\">x</span><span class=\"p\">,</span> <span class=\"n\">y</span><span class=\"p\">,</span> <span class=\"n\">theta</span><span class=\"p\">:</span> <span class=\"p\">(</span><span class=\"n\">x</span> <span class=\"o\">@</span> <span class=\"n\">theta</span> <span class=\"o\">-</span> <span class=\"n\">y</span><span class=\"p\">)</span><span class=\"o\">.</span><span class=\"n\">T</span> <span class=\"o\">@</span> <span class=\"n\">x</span>\n",
       "    <span class=\"n\">loss</span> <span class=\"o\">=</span> <span class=\"k\">lambda</span> <span class=\"n\">x</span><span class=\"p\">,</span> <span class=\"n\">y</span><span class=\"p\">,</span> <span class=\"n\">theta</span><span class=\"p\">:</span> <span class=\"mi\">1</span><span class=\"o\">/</span><span class=\"p\">(</span><span class=\"mi\">2</span><span class=\"o\">*</span><span class=\"bp\">self</span><span class=\"o\">.</span><span class=\"n\">n</span><span class=\"p\">)</span> <span class=\"o\">*</span> <span class=\"n\">np</span><span class=\"o\">.</span><span class=\"n\">sum</span><span class=\"p\">(</span><span class=\"n\">np</span><span class=\"o\">.</span><span class=\"n\">square</span><span class=\"p\">(</span><span class=\"n\">X</span> <span class=\"o\">@</span> <span class=\"n\">theta</span> <span class=\"o\">-</span> <span class=\"n\">y</span><span class=\"p\">))</span>\n",
       "    <span class=\"bp\">self</span><span class=\"o\">.</span><span class=\"n\">_gradient_descent</span><span class=\"p\">(</span><span class=\"n\">iters</span><span class=\"o\">=</span><span class=\"n\">iters</span><span class=\"p\">,</span> <span class=\"n\">loss_prime</span><span class=\"o\">=</span><span class=\"n\">loss_prime</span><span class=\"p\">,</span> <span class=\"n\">lr</span><span class=\"o\">=</span><span class=\"n\">lr</span><span class=\"p\">,</span> <span class=\"n\">loss</span><span class=\"o\">=</span><span class=\"n\">loss</span><span class=\"p\">)</span>\n",
       "</pre></div>\n"
      ],
      "text/latex": [
       "\\begin{Verbatim}[commandchars=\\\\\\{\\}]\n",
       "\\PY{k}{def} \\PY{n+nf}{fit}\\PY{p}{(}\\PY{n+nb+bp}{self}\\PY{p}{,} \\PY{n}{X}\\PY{p}{,} \\PY{n}{y}\\PY{p}{,} \\PY{n}{lamb}\\PY{o}{=}\\PY{l+m+mi}{0}\\PY{p}{,} \\PY{n}{add\\PYZus{}intercept}\\PY{o}{=}\\PY{k+kc}{True}\\PY{p}{,} \\PY{n}{iters}\\PY{o}{=}\\PY{l+m+mi}{20}\\PY{p}{,} \\PY{n}{lr}\\PY{o}{=}\\PY{l+m+mf}{1e\\PYZhy{}6}\\PY{p}{)}\\PY{p}{:}\n",
       "    \\PY{l+s+sd}{\\PYZdq{}\\PYZdq{}\\PYZdq{}Fits the training data using gradient descent\\PYZdq{}\\PYZdq{}\\PYZdq{}}\n",
       "    \\PY{k}{if} \\PY{n}{add\\PYZus{}intercept}\\PY{p}{:}\n",
       "        \\PY{n}{X} \\PY{o}{=} \\PY{n}{np}\\PY{o}{.}\\PY{n}{column\\PYZus{}stack}\\PY{p}{(}\\PY{p}{(}\\PY{n}{np}\\PY{o}{.}\\PY{n}{ones}\\PY{p}{(}\\PY{p}{(}\\PY{n}{X}\\PY{o}{.}\\PY{n}{shape}\\PY{p}{[}\\PY{l+m+mi}{0}\\PY{p}{]}\\PY{p}{,} \\PY{l+m+mi}{1}\\PY{p}{)}\\PY{p}{,} \\PY{n}{dtype}\\PY{o}{=}\\PY{n}{X}\\PY{o}{.}\\PY{n}{dtype}\\PY{p}{)}\\PY{p}{,} \\PY{n}{X}\\PY{p}{)}\\PY{p}{)}\n",
       "    \\PY{n+nb+bp}{self}\\PY{o}{.}\\PY{n}{n}\\PY{p}{,} \\PY{n+nb+bp}{self}\\PY{o}{.}\\PY{n}{p} \\PY{o}{=} \\PY{n}{X}\\PY{o}{.}\\PY{n}{shape}\n",
       "    \\PY{n+nb+bp}{self}\\PY{o}{.}\\PY{n}{X} \\PY{o}{=} \\PY{n}{X}\n",
       "    \\PY{n+nb+bp}{self}\\PY{o}{.}\\PY{n}{y} \\PY{o}{=} \\PY{n}{np}\\PY{o}{.}\\PY{n}{reshape}\\PY{p}{(}\\PY{n}{y}\\PY{p}{,} \\PY{p}{(}\\PY{n+nb}{len}\\PY{p}{(}\\PY{n}{y}\\PY{p}{)}\\PY{p}{,} \\PY{l+m+mi}{1}\\PY{p}{)}\\PY{p}{)}\n",
       "    \\PY{n+nb+bp}{self}\\PY{o}{.}\\PY{n}{Theta} \\PY{o}{=} \\PY{n}{np}\\PY{o}{.}\\PY{n}{random}\\PY{o}{.}\\PY{n}{randn}\\PY{p}{(}\\PY{n+nb+bp}{self}\\PY{o}{.}\\PY{n}{p}\\PY{p}{,} \\PY{l+m+mi}{1}\\PY{p}{)}\n",
       "    \\PY{n}{loss\\PYZus{}prime} \\PY{o}{=} \\PY{k}{lambda} \\PY{n}{x}\\PY{p}{,} \\PY{n}{y}\\PY{p}{,} \\PY{n}{theta}\\PY{p}{:} \\PY{p}{(}\\PY{n}{x} \\PY{o}{@} \\PY{n}{theta} \\PY{o}{\\PYZhy{}} \\PY{n}{y}\\PY{p}{)}\\PY{o}{.}\\PY{n}{T} \\PY{o}{@} \\PY{n}{x}\n",
       "    \\PY{n}{loss} \\PY{o}{=} \\PY{k}{lambda} \\PY{n}{x}\\PY{p}{,} \\PY{n}{y}\\PY{p}{,} \\PY{n}{theta}\\PY{p}{:} \\PY{l+m+mi}{1}\\PY{o}{/}\\PY{p}{(}\\PY{l+m+mi}{2}\\PY{o}{*}\\PY{n+nb+bp}{self}\\PY{o}{.}\\PY{n}{n}\\PY{p}{)} \\PY{o}{*} \\PY{n}{np}\\PY{o}{.}\\PY{n}{sum}\\PY{p}{(}\\PY{n}{np}\\PY{o}{.}\\PY{n}{square}\\PY{p}{(}\\PY{n}{X} \\PY{o}{@} \\PY{n}{theta} \\PY{o}{\\PYZhy{}} \\PY{n}{y}\\PY{p}{)}\\PY{p}{)}\n",
       "    \\PY{n+nb+bp}{self}\\PY{o}{.}\\PY{n}{\\PYZus{}gradient\\PYZus{}descent}\\PY{p}{(}\\PY{n}{iters}\\PY{o}{=}\\PY{n}{iters}\\PY{p}{,} \\PY{n}{loss\\PYZus{}prime}\\PY{o}{=}\\PY{n}{loss\\PYZus{}prime}\\PY{p}{,} \\PY{n}{lr}\\PY{o}{=}\\PY{n}{lr}\\PY{p}{,} \\PY{n}{loss}\\PY{o}{=}\\PY{n}{loss}\\PY{p}{)}\n",
       "\\end{Verbatim}\n"
      ],
      "text/plain": [
       "\n",
       "def fit(self, X, y, lamb=0, add_intercept=True, iters=20, lr=1e-6):\n",
       "    \"\"\"Fits the training data using gradient descent\"\"\"\n",
       "    if add_intercept:\n",
       "        X = np.column_stack((np.ones((X.shape[0], 1), dtype=X.dtype), X))\n",
       "    self.n, self.p = X.shape\n",
       "    self.X = X\n",
       "    self.y = np.reshape(y, (len(y), 1))\n",
       "    self.Theta = np.random.randn(self.p, 1)\n",
       "    loss_prime = lambda x, y, theta: (x @ theta - y).T @ x\n",
       "    loss = lambda x, y, theta: 1/(2*self.n) * np.sum(np.square(X @ theta - y))\n",
       "    self._gradient_descent(iters=iters, loss_prime=loss_prime, lr=lr, loss=loss)"
      ]
     },
     "execution_count": 6,
     "metadata": {},
     "output_type": "execute_result"
    }
   ],
   "source": [
    "#hide_input\n",
    "Code('''\n",
    "def fit(self, X, y, lamb=0, add_intercept=True, iters=20, lr=1e-6):\n",
    "    \"\"\"Fits the training data using gradient descent\"\"\"\n",
    "    if add_intercept:\n",
    "        X = np.column_stack((np.ones((X.shape[0], 1), dtype=X.dtype), X))\n",
    "    self.n, self.p = X.shape\n",
    "    self.X = X\n",
    "    self.y = np.reshape(y, (len(y), 1))\n",
    "    self.Theta = np.random.randn(self.p, 1)\n",
    "    loss_prime = lambda x, y, theta: (x @ theta - y).T @ x\n",
    "    loss = lambda x, y, theta: 1/(2*self.n) * np.sum(np.square(X @ theta - y))\n",
    "    self._gradient_descent(iters=iters, loss_prime=loss_prime, lr=lr, loss=loss)\n",
    "''', language='py')"
   ]
  },
  {
   "cell_type": "markdown",
   "metadata": {},
   "source": [
    "Since we now our loss function we can move on to the gradient descent. Since we try to minimize the value of the loss function, we can understand what values of thetas make it smaller by calculating the derivate of the loss function we just defined. We is the following:\n",
    "$$(X \\cdot \\theta - y)' \\cdot X$$\n",
    "We can move towards a smaller error by substracting this derivative from the theta that we used to calculate it. And that's the gradient descent algorithm. One addition is that instead of just substracting the derivative we first multiply it by a small number (learning rate) so we don't take too big steps and just little by little go to the right direction."
   ]
  },
  {
   "cell_type": "code",
   "execution_count": 7,
   "metadata": {},
   "outputs": [
    {
     "data": {
      "text/html": [
       "<style>.output_html .hll { background-color: #ffffcc }\n",
       ".output_html  { background: #f8f8f8; }\n",
       ".output_html .c { color: #408080; font-style: italic } /* Comment */\n",
       ".output_html .err { border: 1px solid #FF0000 } /* Error */\n",
       ".output_html .k { color: #008000; font-weight: bold } /* Keyword */\n",
       ".output_html .o { color: #666666 } /* Operator */\n",
       ".output_html .ch { color: #408080; font-style: italic } /* Comment.Hashbang */\n",
       ".output_html .cm { color: #408080; font-style: italic } /* Comment.Multiline */\n",
       ".output_html .cp { color: #BC7A00 } /* Comment.Preproc */\n",
       ".output_html .cpf { color: #408080; font-style: italic } /* Comment.PreprocFile */\n",
       ".output_html .c1 { color: #408080; font-style: italic } /* Comment.Single */\n",
       ".output_html .cs { color: #408080; font-style: italic } /* Comment.Special */\n",
       ".output_html .gd { color: #A00000 } /* Generic.Deleted */\n",
       ".output_html .ge { font-style: italic } /* Generic.Emph */\n",
       ".output_html .gr { color: #FF0000 } /* Generic.Error */\n",
       ".output_html .gh { color: #000080; font-weight: bold } /* Generic.Heading */\n",
       ".output_html .gi { color: #00A000 } /* Generic.Inserted */\n",
       ".output_html .go { color: #888888 } /* Generic.Output */\n",
       ".output_html .gp { color: #000080; font-weight: bold } /* Generic.Prompt */\n",
       ".output_html .gs { font-weight: bold } /* Generic.Strong */\n",
       ".output_html .gu { color: #800080; font-weight: bold } /* Generic.Subheading */\n",
       ".output_html .gt { color: #0044DD } /* Generic.Traceback */\n",
       ".output_html .kc { color: #008000; font-weight: bold } /* Keyword.Constant */\n",
       ".output_html .kd { color: #008000; font-weight: bold } /* Keyword.Declaration */\n",
       ".output_html .kn { color: #008000; font-weight: bold } /* Keyword.Namespace */\n",
       ".output_html .kp { color: #008000 } /* Keyword.Pseudo */\n",
       ".output_html .kr { color: #008000; font-weight: bold } /* Keyword.Reserved */\n",
       ".output_html .kt { color: #B00040 } /* Keyword.Type */\n",
       ".output_html .m { color: #666666 } /* Literal.Number */\n",
       ".output_html .s { color: #BA2121 } /* Literal.String */\n",
       ".output_html .na { color: #7D9029 } /* Name.Attribute */\n",
       ".output_html .nb { color: #008000 } /* Name.Builtin */\n",
       ".output_html .nc { color: #0000FF; font-weight: bold } /* Name.Class */\n",
       ".output_html .no { color: #880000 } /* Name.Constant */\n",
       ".output_html .nd { color: #AA22FF } /* Name.Decorator */\n",
       ".output_html .ni { color: #999999; font-weight: bold } /* Name.Entity */\n",
       ".output_html .ne { color: #D2413A; font-weight: bold } /* Name.Exception */\n",
       ".output_html .nf { color: #0000FF } /* Name.Function */\n",
       ".output_html .nl { color: #A0A000 } /* Name.Label */\n",
       ".output_html .nn { color: #0000FF; font-weight: bold } /* Name.Namespace */\n",
       ".output_html .nt { color: #008000; font-weight: bold } /* Name.Tag */\n",
       ".output_html .nv { color: #19177C } /* Name.Variable */\n",
       ".output_html .ow { color: #AA22FF; font-weight: bold } /* Operator.Word */\n",
       ".output_html .w { color: #bbbbbb } /* Text.Whitespace */\n",
       ".output_html .mb { color: #666666 } /* Literal.Number.Bin */\n",
       ".output_html .mf { color: #666666 } /* Literal.Number.Float */\n",
       ".output_html .mh { color: #666666 } /* Literal.Number.Hex */\n",
       ".output_html .mi { color: #666666 } /* Literal.Number.Integer */\n",
       ".output_html .mo { color: #666666 } /* Literal.Number.Oct */\n",
       ".output_html .sa { color: #BA2121 } /* Literal.String.Affix */\n",
       ".output_html .sb { color: #BA2121 } /* Literal.String.Backtick */\n",
       ".output_html .sc { color: #BA2121 } /* Literal.String.Char */\n",
       ".output_html .dl { color: #BA2121 } /* Literal.String.Delimiter */\n",
       ".output_html .sd { color: #BA2121; font-style: italic } /* Literal.String.Doc */\n",
       ".output_html .s2 { color: #BA2121 } /* Literal.String.Double */\n",
       ".output_html .se { color: #BB6622; font-weight: bold } /* Literal.String.Escape */\n",
       ".output_html .sh { color: #BA2121 } /* Literal.String.Heredoc */\n",
       ".output_html .si { color: #BB6688; font-weight: bold } /* Literal.String.Interpol */\n",
       ".output_html .sx { color: #008000 } /* Literal.String.Other */\n",
       ".output_html .sr { color: #BB6688 } /* Literal.String.Regex */\n",
       ".output_html .s1 { color: #BA2121 } /* Literal.String.Single */\n",
       ".output_html .ss { color: #19177C } /* Literal.String.Symbol */\n",
       ".output_html .bp { color: #008000 } /* Name.Builtin.Pseudo */\n",
       ".output_html .fm { color: #0000FF } /* Name.Function.Magic */\n",
       ".output_html .vc { color: #19177C } /* Name.Variable.Class */\n",
       ".output_html .vg { color: #19177C } /* Name.Variable.Global */\n",
       ".output_html .vi { color: #19177C } /* Name.Variable.Instance */\n",
       ".output_html .vm { color: #19177C } /* Name.Variable.Magic */\n",
       ".output_html .il { color: #666666 } /* Literal.Number.Integer.Long */</style><div class=\"highlight\"><pre><span></span><span class=\"k\">def</span> <span class=\"nf\">_gradient_descent</span><span class=\"p\">(</span><span class=\"bp\">self</span><span class=\"p\">,</span> <span class=\"n\">iters</span><span class=\"p\">,</span> <span class=\"n\">loss_prime</span><span class=\"p\">,</span> <span class=\"n\">lr</span><span class=\"p\">,</span> <span class=\"n\">loss</span><span class=\"o\">=</span><span class=\"kc\">None</span><span class=\"p\">):</span>\n",
       "    <span class=\"sd\">&quot;&quot;&quot;Gradient descent algorithm&quot;&quot;&quot;</span>\n",
       "    <span class=\"k\">for</span> <span class=\"n\">i</span> <span class=\"ow\">in</span> <span class=\"nb\">range</span><span class=\"p\">(</span><span class=\"n\">iters</span><span class=\"p\">):</span>\n",
       "        <span class=\"n\">grad</span> <span class=\"o\">=</span> <span class=\"n\">loss_prime</span><span class=\"p\">(</span><span class=\"bp\">self</span><span class=\"o\">.</span><span class=\"n\">X</span><span class=\"p\">,</span> <span class=\"bp\">self</span><span class=\"o\">.</span><span class=\"n\">y</span><span class=\"p\">,</span> <span class=\"bp\">self</span><span class=\"o\">.</span><span class=\"n\">Theta</span><span class=\"p\">)</span>\n",
       "        <span class=\"bp\">self</span><span class=\"o\">.</span><span class=\"n\">Theta</span> <span class=\"o\">-=</span> <span class=\"n\">lr</span> <span class=\"o\">*</span> <span class=\"n\">grad</span><span class=\"o\">.</span><span class=\"n\">T</span>\n",
       "        <span class=\"k\">if</span> <span class=\"n\">loss</span> <span class=\"o\">!=</span> <span class=\"kc\">None</span><span class=\"p\">:</span>\n",
       "            <span class=\"bp\">self</span><span class=\"o\">.</span><span class=\"n\">loss</span><span class=\"o\">.</span><span class=\"n\">append</span><span class=\"p\">(</span><span class=\"n\">loss</span><span class=\"p\">(</span><span class=\"bp\">self</span><span class=\"o\">.</span><span class=\"n\">X</span><span class=\"p\">,</span> <span class=\"bp\">self</span><span class=\"o\">.</span><span class=\"n\">y</span><span class=\"p\">,</span> <span class=\"bp\">self</span><span class=\"o\">.</span><span class=\"n\">Theta</span><span class=\"p\">))</span>\n",
       "</pre></div>\n"
      ],
      "text/latex": [
       "\\begin{Verbatim}[commandchars=\\\\\\{\\}]\n",
       "\\PY{k}{def} \\PY{n+nf}{\\PYZus{}gradient\\PYZus{}descent}\\PY{p}{(}\\PY{n+nb+bp}{self}\\PY{p}{,} \\PY{n}{iters}\\PY{p}{,} \\PY{n}{loss\\PYZus{}prime}\\PY{p}{,} \\PY{n}{lr}\\PY{p}{,} \\PY{n}{loss}\\PY{o}{=}\\PY{k+kc}{None}\\PY{p}{)}\\PY{p}{:}\n",
       "    \\PY{l+s+sd}{\\PYZdq{}\\PYZdq{}\\PYZdq{}Gradient descent algorithm\\PYZdq{}\\PYZdq{}\\PYZdq{}}\n",
       "    \\PY{k}{for} \\PY{n}{i} \\PY{o+ow}{in} \\PY{n+nb}{range}\\PY{p}{(}\\PY{n}{iters}\\PY{p}{)}\\PY{p}{:}\n",
       "        \\PY{n}{grad} \\PY{o}{=} \\PY{n}{loss\\PYZus{}prime}\\PY{p}{(}\\PY{n+nb+bp}{self}\\PY{o}{.}\\PY{n}{X}\\PY{p}{,} \\PY{n+nb+bp}{self}\\PY{o}{.}\\PY{n}{y}\\PY{p}{,} \\PY{n+nb+bp}{self}\\PY{o}{.}\\PY{n}{Theta}\\PY{p}{)}\n",
       "        \\PY{n+nb+bp}{self}\\PY{o}{.}\\PY{n}{Theta} \\PY{o}{\\PYZhy{}}\\PY{o}{=} \\PY{n}{lr} \\PY{o}{*} \\PY{n}{grad}\\PY{o}{.}\\PY{n}{T}\n",
       "        \\PY{k}{if} \\PY{n}{loss} \\PY{o}{!=} \\PY{k+kc}{None}\\PY{p}{:}\n",
       "            \\PY{n+nb+bp}{self}\\PY{o}{.}\\PY{n}{loss}\\PY{o}{.}\\PY{n}{append}\\PY{p}{(}\\PY{n}{loss}\\PY{p}{(}\\PY{n+nb+bp}{self}\\PY{o}{.}\\PY{n}{X}\\PY{p}{,} \\PY{n+nb+bp}{self}\\PY{o}{.}\\PY{n}{y}\\PY{p}{,} \\PY{n+nb+bp}{self}\\PY{o}{.}\\PY{n}{Theta}\\PY{p}{)}\\PY{p}{)}\n",
       "\\end{Verbatim}\n"
      ],
      "text/plain": [
       "\n",
       "def _gradient_descent(self, iters, loss_prime, lr, loss=None):\n",
       "    \"\"\"Gradient descent algorithm\"\"\"\n",
       "    for i in range(iters):\n",
       "        grad = loss_prime(self.X, self.y, self.Theta)\n",
       "        self.Theta -= lr * grad.T\n",
       "        if loss != None:\n",
       "            self.loss.append(loss(self.X, self.y, self.Theta))"
      ]
     },
     "execution_count": 7,
     "metadata": {},
     "output_type": "execute_result"
    }
   ],
   "source": [
    "#hide_input\n",
    "Code('''\n",
    "def _gradient_descent(self, iters, loss_prime, lr, loss=None):\n",
    "    \"\"\"Gradient descent algorithm\"\"\"\n",
    "    for i in range(iters):\n",
    "        grad = loss_prime(self.X, self.y, self.Theta)\n",
    "        self.Theta -= lr * grad.T\n",
    "        if loss != None:\n",
    "            self.loss.append(loss(self.X, self.y, self.Theta))\n",
    "''', language='py')"
   ]
  },
  {
   "cell_type": "markdown",
   "metadata": {},
   "source": [
    "That was all! If you'd like to see what we ended up with click the button below. Now we will move on to testing our model."
   ]
  },
  {
   "cell_type": "code",
   "execution_count": 51,
   "metadata": {},
   "outputs": [],
   "source": [
    "#collapse-hide\n",
    "class LinearRegression:\n",
    "    \"\"\"Linear regression algorithm\"\"\"\n",
    "    def __init__(self):\n",
    "        self.loss = []\n",
    "        \n",
    "    def fit(self, X, y, lamb=0, add_intercept=True, iters=2000, lr=1e-8):\n",
    "        \"\"\"Fits the training data using normal equation\"\"\"\n",
    "        if add_intercept:\n",
    "            X = np.column_stack((np.ones((X.shape[0], 1), dtype=X.dtype), X))\n",
    "        self.n, self.p = X.shape\n",
    "        self.X = X\n",
    "        self.y = np.reshape(y, (len(y), 1))\n",
    "        self.Theta = np.random.randn(self.p, 1) *5\n",
    "        print(self.Theta)\n",
    "        loss_prime = lambda x, y, theta: (x @ theta - y).T @ x\n",
    "        loss = lambda x, y, theta: 1/(2*self.n) * np.sum(np.square(X @ theta - y))\n",
    "        self._gradient_descent(iters=iters, loss_prime=loss_prime, lr=lr, loss=loss)\n",
    "\n",
    "    def predict(self, X, add_intercept=True):\n",
    "        \"\"\"Makes predictions on the given data\"\"\"\n",
    "        if add_intercept:\n",
    "            X = np.column_stack((np.ones((X.shape[0], 1), dtype=X.dtype), X))\n",
    "        return X @ self.Theta\n",
    "    \n",
    "    def _gradient_descent(self, iters, loss_prime, lr, loss=None):\n",
    "        \"\"\"Gradient descent algorithm\"\"\"\n",
    "        for i in range(iters):\n",
    "            grad = loss_prime(self.X, self.y, self.Theta)\n",
    "            self.Theta -= lr * grad.T\n",
    "            if loss != None:\n",
    "                self.loss.append(loss(self.X, self.y, self.Theta))"
   ]
  },
  {
   "cell_type": "markdown",
   "metadata": {},
   "source": [
    "#### Results\n",
    "You may have realised that we preset values for learning-rate and the number of iterations for gradient descent they are set to values that work, but I would encourage to play around with them. Anyways if we run our model with those parameters here are the values that we obtain. Maybe not as good as the once obtained by scikit-learn but there still seems to have the correct correlation."
   ]
  },
  {
   "cell_type": "code",
   "execution_count": 52,
   "metadata": {},
   "outputs": [
    {
     "name": "stdout",
     "output_type": "stream",
     "text": [
      "[[-2.86661358]\n",
      " [-5.86704893]]\n",
      "Thetas we ended up with:\n",
      " [[-2.75715206]\n",
      " [ 0.30358352]]\n"
     ]
    },
    {
     "data": {
      "text/html": [
       "<div>\n",
       "<style scoped>\n",
       "    .dataframe tbody tr th:only-of-type {\n",
       "        vertical-align: middle;\n",
       "    }\n",
       "\n",
       "    .dataframe tbody tr th {\n",
       "        vertical-align: top;\n",
       "    }\n",
       "\n",
       "    .dataframe thead th {\n",
       "        text-align: right;\n",
       "    }\n",
       "</style>\n",
       "<table border=\"1\" class=\"dataframe\">\n",
       "  <thead>\n",
       "    <tr style=\"text-align: right;\">\n",
       "      <th></th>\n",
       "      <th>0</th>\n",
       "      <th>1</th>\n",
       "      <th>2</th>\n",
       "      <th>3</th>\n",
       "      <th>4</th>\n",
       "    </tr>\n",
       "  </thead>\n",
       "  <tbody>\n",
       "    <tr>\n",
       "      <th>Prediction</th>\n",
       "      <td>22.774222</td>\n",
       "      <td>7.230746</td>\n",
       "      <td>27.2369</td>\n",
       "      <td>-0.389201</td>\n",
       "      <td>25.111815</td>\n",
       "    </tr>\n",
       "    <tr>\n",
       "      <th>True</th>\n",
       "      <td>23.600000</td>\n",
       "      <td>32.400000</td>\n",
       "      <td>13.6000</td>\n",
       "      <td>22.800000</td>\n",
       "      <td>16.100000</td>\n",
       "    </tr>\n",
       "  </tbody>\n",
       "</table>\n",
       "</div>"
      ],
      "text/plain": [
       "                    0          1        2          3          4\n",
       "Prediction  22.774222   7.230746  27.2369  -0.389201  25.111815\n",
       "True        23.600000  32.400000  13.6000  22.800000  16.100000"
      ]
     },
     "execution_count": 52,
     "metadata": {},
     "output_type": "execute_result"
    }
   ],
   "source": [
    "#collapse-hide\n",
    "LinReg = LinearRegression()\n",
    "LinReg.fit(X_train, y_train)\n",
    "print('Thetas we ended up with:\\n',LinReg.Theta)\n",
    "pd.DataFrame(data=[LinReg.predict(X_test)[:5,0], y_test[:5]], index=['Prediction', 'True'])"
   ]
  },
  {
   "cell_type": "markdown",
   "metadata": {},
   "source": [
    "##### Comparison\n",
    "Our error (mean squared error) compared to scikit-learn's."
   ]
  },
  {
   "cell_type": "code",
   "execution_count": 53,
   "metadata": {},
   "outputs": [
    {
     "name": "stdout",
     "output_type": "stream",
     "text": [
      "Our:  228.609031032808 \n",
      "Sklearns:  64.45241584915276\n"
     ]
    }
   ],
   "source": [
    "#collapse-hide\n",
    "from sklearn.metrics import mean_squared_error\n",
    "print('Our: ', mean_squared_error(LinReg.predict(X_test), y_test),\n",
    "      '\\nSklearns: ', mean_squared_error(clf.predict(X_test), y_test))"
   ]
  },
  {
   "cell_type": "markdown",
   "metadata": {},
   "source": [
    "#### Learning\n",
    "But the most interesting part is to see how our algorithm learns. Below you can see how our error got smaller with every iteration of the gradient descent algortihm."
   ]
  },
  {
   "cell_type": "code",
   "execution_count": 11,
   "metadata": {},
   "outputs": [
    {
     "data": {
      "image/png": "[encoded data removed]",
      "text/plain": [
       "<Figure size 432x288 with 1 Axes>"
      ]
     },
     "metadata": {},
     "output_type": "display_data"
    }
   ],
   "source": [
    "plt.plot(LinReg.loss);plt.show()"
   ]
  },
  {
   "cell_type": "markdown",
   "metadata": {},
   "source": [
    "And here is the visualisation of the result we obtained and comparison to the result using sklearn."
   ]
  },
  {
   "cell_type": "code",
   "execution_count": 12,
   "metadata": {},
   "outputs": [
    {
     "data": {
      "image/png": "[encoded data removed]",
      "text/plain": [
       "<Figure size 432x288 with 1 Axes>"
      ]
     },
     "metadata": {},
     "output_type": "display_data"
    }
   ],
   "source": [
    "#collapse-hide\n",
    "LinReg = LinearRegression()\n",
    "sk = skLinReg()\n",
    "LinReg.fit(X_train, y_train)\n",
    "sk.fit(X_train, y_train)\n",
    "\n",
    "plt.scatter(X_test, y_test)\n",
    "plt.plot(X_test, LinReg.predict(X_test), 'g')\n",
    "plt.plot(X_test, sk.predict(X_test), 'm')\n",
    "plt.legend(['Our', 'Sklearns'])\n",
    "plt.show()"
   ]
  },
  {
   "cell_type": "markdown",
   "metadata": {},
   "source": [
    "---"
   ]
  },
  {
   "cell_type": "code",
   "execution_count": 13,
   "metadata": {},
   "outputs": [
    {
     "data": {
      "image/png": "[encoded data removed]",
      "text/plain": [
       "<Figure size 432x288 with 1 Axes>"
      ]
     },
     "metadata": {},
     "output_type": "display_data"
    }
   ],
   "source": [
    "#hide_output\n",
    "#collapse_hide\n",
    "from matplotlib import animation\n",
    "fig, ax = plt.subplots()\n",
    "fig.set_tight_layout(True)\n",
    "\n",
    "LinReg2 = LinearRegression()\n",
    "LinReg2.fit(X_train, y_train, iters=0)\n",
    "sk = skLinReg()\n",
    "sk.fit(X_train, y_train)\n",
    "ax.scatter(X_test, y_test)\n",
    "ax.plot(X_test, sk.predict(X_test), 'm-')\n",
    "line, = ax.plot(X_test, np.hstack((X_test, np.ones((X_test.shape[0], 1), dtype=X_test.dtype))).dot(LinReg2.Theta), 'r-', linewidth=2)\n",
    "ax.legend(('Sklearns', 'Our'))\n",
    "\n",
    "Writer = animation.writers['pillow']\n",
    "writer = Writer(fps=15, metadata=dict(artist='Me'), bitrate=1800)\n",
    "\n",
    "def init():\n",
    "    line.set_data([], [])\n",
    "    return line,\n",
    "\n",
    "def animate(i):\n",
    "    LinReg2.fit(X_train, y_train, iters=250)\n",
    "    line.set_data(X_test, LinReg2.predict(X_test))\n",
    "    return line,\n",
    "\n",
    "anim = animation.FuncAnimation(fig, animate, init_func=init,\n",
    "                               frames=200, interval=200, repeat_delay=1000, blit=True)\n",
    "\n",
    "anim.save('gif/linreg.gif', writer=writer)"
   ]
  },
  {
   "cell_type": "markdown",
   "metadata": {},
   "source": [
    "![](gif/linreg.gif)"
   ]
  },
  {
   "cell_type": "markdown",
   "metadata": {},
   "source": [
    "Now, I had said that we will see two algorithm to find values for theta. The first one was gradient descent. The second is called the normal equation. This equation is possible because linear regression is a quite simple idea, so smart people have found a formula that makes the learning process unnecessary and just gives you the correct answer. If you interested in the proof; do go online, I will not do it here. Anyways, here is the equation:\n",
    "$$(X' \\cdot X)^{-1} \\cdot X' \\cdot y$$\n",
    "Obviously this equation will not work for every situation. Since you need to invert a matrix you may end up with matricees of data where it is not possible to do so."
   ]
  },
  {
   "cell_type": "code",
   "execution_count": 14,
   "metadata": {},
   "outputs": [
    {
     "data": {
      "text/html": [
       "<style>.output_html .hll { background-color: #ffffcc }\n",
       ".output_html  { background: #f8f8f8; }\n",
       ".output_html .c { color: #408080; font-style: italic } /* Comment */\n",
       ".output_html .err { border: 1px solid #FF0000 } /* Error */\n",
       ".output_html .k { color: #008000; font-weight: bold } /* Keyword */\n",
       ".output_html .o { color: #666666 } /* Operator */\n",
       ".output_html .ch { color: #408080; font-style: italic } /* Comment.Hashbang */\n",
       ".output_html .cm { color: #408080; font-style: italic } /* Comment.Multiline */\n",
       ".output_html .cp { color: #BC7A00 } /* Comment.Preproc */\n",
       ".output_html .cpf { color: #408080; font-style: italic } /* Comment.PreprocFile */\n",
       ".output_html .c1 { color: #408080; font-style: italic } /* Comment.Single */\n",
       ".output_html .cs { color: #408080; font-style: italic } /* Comment.Special */\n",
       ".output_html .gd { color: #A00000 } /* Generic.Deleted */\n",
       ".output_html .ge { font-style: italic } /* Generic.Emph */\n",
       ".output_html .gr { color: #FF0000 } /* Generic.Error */\n",
       ".output_html .gh { color: #000080; font-weight: bold } /* Generic.Heading */\n",
       ".output_html .gi { color: #00A000 } /* Generic.Inserted */\n",
       ".output_html .go { color: #888888 } /* Generic.Output */\n",
       ".output_html .gp { color: #000080; font-weight: bold } /* Generic.Prompt */\n",
       ".output_html .gs { font-weight: bold } /* Generic.Strong */\n",
       ".output_html .gu { color: #800080; font-weight: bold } /* Generic.Subheading */\n",
       ".output_html .gt { color: #0044DD } /* Generic.Traceback */\n",
       ".output_html .kc { color: #008000; font-weight: bold } /* Keyword.Constant */\n",
       ".output_html .kd { color: #008000; font-weight: bold } /* Keyword.Declaration */\n",
       ".output_html .kn { color: #008000; font-weight: bold } /* Keyword.Namespace */\n",
       ".output_html .kp { color: #008000 } /* Keyword.Pseudo */\n",
       ".output_html .kr { color: #008000; font-weight: bold } /* Keyword.Reserved */\n",
       ".output_html .kt { color: #B00040 } /* Keyword.Type */\n",
       ".output_html .m { color: #666666 } /* Literal.Number */\n",
       ".output_html .s { color: #BA2121 } /* Literal.String */\n",
       ".output_html .na { color: #7D9029 } /* Name.Attribute */\n",
       ".output_html .nb { color: #008000 } /* Name.Builtin */\n",
       ".output_html .nc { color: #0000FF; font-weight: bold } /* Name.Class */\n",
       ".output_html .no { color: #880000 } /* Name.Constant */\n",
       ".output_html .nd { color: #AA22FF } /* Name.Decorator */\n",
       ".output_html .ni { color: #999999; font-weight: bold } /* Name.Entity */\n",
       ".output_html .ne { color: #D2413A; font-weight: bold } /* Name.Exception */\n",
       ".output_html .nf { color: #0000FF } /* Name.Function */\n",
       ".output_html .nl { color: #A0A000 } /* Name.Label */\n",
       ".output_html .nn { color: #0000FF; font-weight: bold } /* Name.Namespace */\n",
       ".output_html .nt { color: #008000; font-weight: bold } /* Name.Tag */\n",
       ".output_html .nv { color: #19177C } /* Name.Variable */\n",
       ".output_html .ow { color: #AA22FF; font-weight: bold } /* Operator.Word */\n",
       ".output_html .w { color: #bbbbbb } /* Text.Whitespace */\n",
       ".output_html .mb { color: #666666 } /* Literal.Number.Bin */\n",
       ".output_html .mf { color: #666666 } /* Literal.Number.Float */\n",
       ".output_html .mh { color: #666666 } /* Literal.Number.Hex */\n",
       ".output_html .mi { color: #666666 } /* Literal.Number.Integer */\n",
       ".output_html .mo { color: #666666 } /* Literal.Number.Oct */\n",
       ".output_html .sa { color: #BA2121 } /* Literal.String.Affix */\n",
       ".output_html .sb { color: #BA2121 } /* Literal.String.Backtick */\n",
       ".output_html .sc { color: #BA2121 } /* Literal.String.Char */\n",
       ".output_html .dl { color: #BA2121 } /* Literal.String.Delimiter */\n",
       ".output_html .sd { color: #BA2121; font-style: italic } /* Literal.String.Doc */\n",
       ".output_html .s2 { color: #BA2121 } /* Literal.String.Double */\n",
       ".output_html .se { color: #BB6622; font-weight: bold } /* Literal.String.Escape */\n",
       ".output_html .sh { color: #BA2121 } /* Literal.String.Heredoc */\n",
       ".output_html .si { color: #BB6688; font-weight: bold } /* Literal.String.Interpol */\n",
       ".output_html .sx { color: #008000 } /* Literal.String.Other */\n",
       ".output_html .sr { color: #BB6688 } /* Literal.String.Regex */\n",
       ".output_html .s1 { color: #BA2121 } /* Literal.String.Single */\n",
       ".output_html .ss { color: #19177C } /* Literal.String.Symbol */\n",
       ".output_html .bp { color: #008000 } /* Name.Builtin.Pseudo */\n",
       ".output_html .fm { color: #0000FF } /* Name.Function.Magic */\n",
       ".output_html .vc { color: #19177C } /* Name.Variable.Class */\n",
       ".output_html .vg { color: #19177C } /* Name.Variable.Global */\n",
       ".output_html .vi { color: #19177C } /* Name.Variable.Instance */\n",
       ".output_html .vm { color: #19177C } /* Name.Variable.Magic */\n",
       ".output_html .il { color: #666666 } /* Literal.Number.Integer.Long */</style><div class=\"highlight\"><pre><span></span><span class=\"k\">def</span> <span class=\"nf\">fit</span><span class=\"p\">(</span><span class=\"bp\">self</span><span class=\"p\">,</span> <span class=\"n\">X</span><span class=\"p\">,</span> <span class=\"n\">y</span><span class=\"p\">,</span> <span class=\"n\">lamb</span><span class=\"o\">=</span><span class=\"mi\">0</span><span class=\"p\">,</span> <span class=\"n\">add_intercept</span><span class=\"o\">=</span><span class=\"kc\">True</span><span class=\"p\">,</span> <span class=\"n\">iters</span><span class=\"o\">=</span><span class=\"mi\">100</span><span class=\"p\">,</span> <span class=\"n\">lr</span><span class=\"o\">=</span><span class=\"mf\">3e-8</span><span class=\"p\">):</span>\n",
       "    <span class=\"sd\">&quot;&quot;&quot;Fits the training data using normal equation&quot;&quot;&quot;</span>\n",
       "    <span class=\"k\">if</span> <span class=\"n\">add_intercept</span><span class=\"p\">:</span>\n",
       "        <span class=\"n\">X</span> <span class=\"o\">=</span> <span class=\"n\">np</span><span class=\"o\">.</span><span class=\"n\">column_stack</span><span class=\"p\">((</span><span class=\"n\">np</span><span class=\"o\">.</span><span class=\"n\">ones</span><span class=\"p\">((</span><span class=\"n\">X</span><span class=\"o\">.</span><span class=\"n\">shape</span><span class=\"p\">[</span><span class=\"mi\">0</span><span class=\"p\">],</span> <span class=\"mi\">1</span><span class=\"p\">),</span> <span class=\"n\">dtype</span><span class=\"o\">=</span><span class=\"n\">X</span><span class=\"o\">.</span><span class=\"n\">dtype</span><span class=\"p\">),</span> <span class=\"n\">X</span><span class=\"p\">))</span>\n",
       "    <span class=\"n\">n</span><span class=\"p\">,</span> <span class=\"n\">p</span> <span class=\"o\">=</span> <span class=\"n\">X</span><span class=\"o\">.</span><span class=\"n\">shape</span>\n",
       "    <span class=\"bp\">self</span><span class=\"o\">.</span><span class=\"n\">X</span> <span class=\"o\">=</span> <span class=\"n\">X</span>\n",
       "    <span class=\"bp\">self</span><span class=\"o\">.</span><span class=\"n\">y</span> <span class=\"o\">=</span> <span class=\"n\">np</span><span class=\"o\">.</span><span class=\"n\">reshape</span><span class=\"p\">(</span><span class=\"n\">y</span><span class=\"p\">,</span> <span class=\"p\">(</span><span class=\"nb\">len</span><span class=\"p\">(</span><span class=\"n\">y</span><span class=\"p\">),</span> <span class=\"mi\">1</span><span class=\"p\">))</span>\n",
       "    <span class=\"bp\">self</span><span class=\"o\">.</span><span class=\"n\">Theta</span> <span class=\"o\">=</span> <span class=\"n\">np</span><span class=\"o\">.</span><span class=\"n\">linalg</span><span class=\"o\">.</span><span class=\"n\">inv</span><span class=\"p\">(</span><span class=\"bp\">self</span><span class=\"o\">.</span><span class=\"n\">X</span><span class=\"o\">.</span><span class=\"n\">T</span> <span class=\"o\">@</span> <span class=\"bp\">self</span><span class=\"o\">.</span><span class=\"n\">X</span><span class=\"p\">)</span> <span class=\"o\">@</span> <span class=\"bp\">self</span><span class=\"o\">.</span><span class=\"n\">X</span><span class=\"o\">.</span><span class=\"n\">T</span> <span class=\"o\">@</span> <span class=\"bp\">self</span><span class=\"o\">.</span><span class=\"n\">y</span>\n",
       "</pre></div>\n"
      ],
      "text/latex": [
       "\\begin{Verbatim}[commandchars=\\\\\\{\\}]\n",
       "\\PY{k}{def} \\PY{n+nf}{fit}\\PY{p}{(}\\PY{n+nb+bp}{self}\\PY{p}{,} \\PY{n}{X}\\PY{p}{,} \\PY{n}{y}\\PY{p}{,} \\PY{n}{lamb}\\PY{o}{=}\\PY{l+m+mi}{0}\\PY{p}{,} \\PY{n}{add\\PYZus{}intercept}\\PY{o}{=}\\PY{k+kc}{True}\\PY{p}{,} \\PY{n}{iters}\\PY{o}{=}\\PY{l+m+mi}{100}\\PY{p}{,} \\PY{n}{lr}\\PY{o}{=}\\PY{l+m+mf}{3e\\PYZhy{}8}\\PY{p}{)}\\PY{p}{:}\n",
       "    \\PY{l+s+sd}{\\PYZdq{}\\PYZdq{}\\PYZdq{}Fits the training data using normal equation\\PYZdq{}\\PYZdq{}\\PYZdq{}}\n",
       "    \\PY{k}{if} \\PY{n}{add\\PYZus{}intercept}\\PY{p}{:}\n",
       "        \\PY{n}{X} \\PY{o}{=} \\PY{n}{np}\\PY{o}{.}\\PY{n}{column\\PYZus{}stack}\\PY{p}{(}\\PY{p}{(}\\PY{n}{np}\\PY{o}{.}\\PY{n}{ones}\\PY{p}{(}\\PY{p}{(}\\PY{n}{X}\\PY{o}{.}\\PY{n}{shape}\\PY{p}{[}\\PY{l+m+mi}{0}\\PY{p}{]}\\PY{p}{,} \\PY{l+m+mi}{1}\\PY{p}{)}\\PY{p}{,} \\PY{n}{dtype}\\PY{o}{=}\\PY{n}{X}\\PY{o}{.}\\PY{n}{dtype}\\PY{p}{)}\\PY{p}{,} \\PY{n}{X}\\PY{p}{)}\\PY{p}{)}\n",
       "    \\PY{n}{n}\\PY{p}{,} \\PY{n}{p} \\PY{o}{=} \\PY{n}{X}\\PY{o}{.}\\PY{n}{shape}\n",
       "    \\PY{n+nb+bp}{self}\\PY{o}{.}\\PY{n}{X} \\PY{o}{=} \\PY{n}{X}\n",
       "    \\PY{n+nb+bp}{self}\\PY{o}{.}\\PY{n}{y} \\PY{o}{=} \\PY{n}{np}\\PY{o}{.}\\PY{n}{reshape}\\PY{p}{(}\\PY{n}{y}\\PY{p}{,} \\PY{p}{(}\\PY{n+nb}{len}\\PY{p}{(}\\PY{n}{y}\\PY{p}{)}\\PY{p}{,} \\PY{l+m+mi}{1}\\PY{p}{)}\\PY{p}{)}\n",
       "    \\PY{n+nb+bp}{self}\\PY{o}{.}\\PY{n}{Theta} \\PY{o}{=} \\PY{n}{np}\\PY{o}{.}\\PY{n}{linalg}\\PY{o}{.}\\PY{n}{inv}\\PY{p}{(}\\PY{n+nb+bp}{self}\\PY{o}{.}\\PY{n}{X}\\PY{o}{.}\\PY{n}{T} \\PY{o}{@} \\PY{n+nb+bp}{self}\\PY{o}{.}\\PY{n}{X}\\PY{p}{)} \\PY{o}{@} \\PY{n+nb+bp}{self}\\PY{o}{.}\\PY{n}{X}\\PY{o}{.}\\PY{n}{T} \\PY{o}{@} \\PY{n+nb+bp}{self}\\PY{o}{.}\\PY{n}{y}\n",
       "\\end{Verbatim}\n"
      ],
      "text/plain": [
       "\n",
       "def fit(self, X, y, lamb=0, add_intercept=True, iters=100, lr=3e-8):\n",
       "    \"\"\"Fits the training data using normal equation\"\"\"\n",
       "    if add_intercept:\n",
       "        X = np.column_stack((np.ones((X.shape[0], 1), dtype=X.dtype), X))\n",
       "    n, p = X.shape\n",
       "    self.X = X\n",
       "    self.y = np.reshape(y, (len(y), 1))\n",
       "    self.Theta = np.linalg.inv(self.X.T @ self.X) @ self.X.T @ self.y"
      ]
     },
     "execution_count": 14,
     "metadata": {},
     "output_type": "execute_result"
    }
   ],
   "source": [
    "#hide_input\n",
    "Code('''\n",
    "def fit(self, X, y, lamb=0, add_intercept=True, iters=100, lr=3e-8):\n",
    "    \"\"\"Fits the training data using normal equation\"\"\"\n",
    "    if add_intercept:\n",
    "        X = np.column_stack((np.ones((X.shape[0], 1), dtype=X.dtype), X))\n",
    "    n, p = X.shape\n",
    "    self.X = X\n",
    "    self.y = np.reshape(y, (len(y), 1))\n",
    "    self.Theta = np.linalg.inv(self.X.T @ self.X) @ self.X.T @ self.y\n",
    "''', language='py')"
   ]
  },
  {
   "cell_type": "markdown",
   "metadata": {},
   "source": [
    "As you can see using this equation we ended up with the same error, so with the same theta (weight) that scikit-learn has found."
   ]
  },
  {
   "cell_type": "code",
   "execution_count": 48,
   "metadata": {},
   "outputs": [
    {
     "name": "stdout",
     "output_type": "stream",
     "text": [
      "[[31.32592649]\n",
      " [-0.12119402]]\n",
      "My:  64.45241584915267 \n",
      "Sklearns:  64.45241584915276\n"
     ]
    }
   ],
   "source": [
    "#collapse-hide\n",
    "class LinearRegression:\n",
    "    \"\"\"Linear regression algorithm\"\"\"\n",
    "    def __init__(self):\n",
    "        self.loss = []\n",
    "        \n",
    "    def fit(self, X, y, lamb=0, add_intercept=True, iters=100, lr=3e-8):\n",
    "        \"\"\"Fits the training data using normal equation\"\"\"\n",
    "        if add_intercept:\n",
    "            X = np.column_stack((np.ones((X.shape[0], 1), dtype=X.dtype), X))\n",
    "        n, p = X.shape\n",
    "        self.X = X\n",
    "        self.y = np.reshape(y, (len(y), 1))\n",
    "        self.Theta = np.linalg.inv(self.X.T @ self.X) @ self.X.T @ self.y\n",
    "\n",
    "    def predict(self, X, add_intercept=True):\n",
    "        \"\"\"Makes predictions on the given data\"\"\"\n",
    "        if add_intercept:\n",
    "            X = np.column_stack((np.ones((X.shape[0], 1), dtype=X.dtype), X))\n",
    "        return X @ self.Theta\n",
    "    \n",
    "LinReg = LinearRegression()\n",
    "LinReg.fit(X_train, y_train)\n",
    "print(LinReg.Theta)\n",
    "from sklearn.metrics import mean_squared_error\n",
    "print('My: ', mean_squared_error(LinReg.predict(X_test), y_test),\n",
    "      '\\nSklearns: ', mean_squared_error(clf.predict(X_test), y_test))"
   ]
  }
 ],
 "metadata": {
  "kernelspec": {
   "display_name": "Python 3",
   "language": "python",
   "name": "python3"
  },
  "language_info": {
   "codemirror_mode": {
    "name": "ipython",
    "version": 3
   },
   "file_extension": ".py",
   "mimetype": "text/x-python",
   "name": "python",
   "nbconvert_exporter": "python",
   "pygments_lexer": "ipython3",
   "version": "3.8.2"
  },
  "varInspector": {
   "cols": {
    "lenName": 16,
    "lenType": 16,
    "lenVar": 40
   },
   "kernels_config": {
    "python": {
     "delete_cmd_postfix": "",
     "delete_cmd_prefix": "del ",
     "library": "var_list.py",
     "varRefreshCmd": "print(var_dic_list())"
    },
    "r": {
     "delete_cmd_postfix": ") ",
     "delete_cmd_prefix": "rm(",
     "library": "var_list.r",
     "varRefreshCmd": "cat(var_dic_list()) "
    }
   },
   "types_to_exclude": [
    "module",
    "function",
    "builtin_function_or_method",
    "instance",
    "_Feature"
   ],
   "window_display": false
  }
 },
 "nbformat": 4,
 "nbformat_minor": 4
}
